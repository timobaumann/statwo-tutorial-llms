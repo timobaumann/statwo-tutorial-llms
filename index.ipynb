{
 "cells": [
  {
   "cell_type": "markdown",
   "id": "09033628",
   "metadata": {
    "editable": true,
    "slideshow": {
     "slide_type": ""
    },
    "tags": []
   },
   "source": [
    "# Code-Beispiele zum Tutorium \"Large Language Models in Theorie und Python\"\n",
    "\n",
    "0. [Bedienungsanleitung](Jupyter.ipynb) für Jupyter/JupyterHub\n",
    "1. [Python](Python.ipynb)-Kurzanleitung\n",
    "2. [Autoregressive Generierung mit einem *echten* LLM](ollama.ipynb)\n",
    "3. [einfache LMs:](ngrams.ipynb) N-Gramme auszählen und anwenden\n",
    "4. [neuronale LMs:](nnlm.ipynb) einfache neuronale Netze als LMs\n",
    "5. [Computation Graphs in Python und PyTorch](PyTorch.ipynb) zur automatischen Berechnung von partiellen Ableitungen und dem Gradientenabstiegsverfahren mit PyTorch\n"
   ]
  },
  {
   "cell_type": "code",
   "execution_count": null,
   "id": "adc2dded",
   "metadata": {},
   "outputs": [],
   "source": []
  }
 ],
 "metadata": {
  "kernelspec": {
   "display_name": "Python 3 (ipykernel)",
   "language": "python",
   "name": "python3"
  },
  "language_info": {
   "codemirror_mode": {
    "name": "ipython",
    "version": 3
   },
   "file_extension": ".py",
   "mimetype": "text/x-python",
   "name": "python",
   "nbconvert_exporter": "python",
   "pygments_lexer": "ipython3",
   "version": "3.10.12"
  }
 },
 "nbformat": 4,
 "nbformat_minor": 5
}
