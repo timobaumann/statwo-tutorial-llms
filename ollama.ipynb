{
 "cells": [
  {
   "cell_type": "markdown",
   "id": "626dc1ed-5313-4461-a564-e9ba94a1a67d",
   "metadata": {
    "jp-MarkdownHeadingCollapsed": true
   },
   "source": [
    "# Autoregressive text generation with Llama3\n",
    "\n",
    "Language models are (nowadays) used to predict the most likely continuation of a given context.\n",
    "\n",
    "The model estimates a probability density function over all possible next elements in the sequence. We then select the best-scored element or perform a weighted sampling from the probability density function. \n",
    "\n",
    "After selecting the next element, we act as if this were *correct*, i.e., we predict the elements afterwards by adding the already selected elements to the context."
   ]
  },
  {
   "cell_type": "markdown",
   "id": "c9b3ab26-a3e9-423a-b624-65fc345c963b",
   "metadata": {
    "editable": true,
    "jp-MarkdownHeadingCollapsed": true,
    "slideshow": {
     "slide_type": ""
    },
    "tags": []
   },
   "source": [
    "# Tokenization\n",
    "\n",
    "Text data is sequential, i.e. a sequence of words following each other, or a sequence of characters. The nature of the elements that make up the sequence is important, as these elements (called *tokens*) determine how the LM \"sees\" texts.\n",
    "\n",
    "In the past, LMs used words as tokens (e.g. in speech recognition), or characters (e.g. in spelling correction). A disadvantage of words-as-tokens is that we can never include **all** words (language users come up with new words all the time). A disadvantage of characters-as-tokens is that they do not have any **meaning** (which is important to determine continuations in most cases) and that meaning only emerges from variably sized sequences of characters. Furthermore, the a priori probability of characters is very imbalanced ('e' is much more probable than 'q' in most languages), which impedes model performance. Also, there are only very few distinct characters, far fewer than our models can deal with nowadays.\n",
    "\n",
    "Nowadays, we use as tokens short character sequences that:\n",
    "* completely cover all possible character sequences (by including all individual characters)\n",
    "* contain frequent words as individual tokens\n",
    "* most often **make sense**, when words need to be broken into multiple tokens.\n",
    "* never span multiple words and contain whitespace only at the beginning (these are artifacts of the token generation procedure).\n",
    "\n",
    "Some examples: \n",
    "* <tt><span style=\"background:lightsalmon\">Not</span><span style=\"background:powderblue\"> just</span><span style=\"background:lavender\"> one</span><span style=\"background:lightsalmon\"> rainbow</span><span style=\"background:powderblue\"> but</span><span style=\"background:lavender\"> two</span><span style=\"background:lightsalmon\"> rain</span><span style=\"background:powderblue\">bows</span><span style=\"background:lavender\"> can</span><span style=\"background:lightsalmon\"> be</span><span style=\"background:powderblue\"> seen</span><span style=\"background:lavender\">.</span></tt>\n",
    "* <tt><span style=\"background:lightsalmon\">N</span><span style=\"background:powderblue\">icht</span><span style=\"background:lavender\"> nur</span><span style=\"background:lightsalmon\"> ein</span><span style=\"background:powderblue\"> Reg</span><span style=\"background:lavender\">en</span><span style=\"background:lightsalmon\">b</span><span style=\"background:powderblue\">o</span><span style=\"background:lavender\">gen</span><span style=\"background:lightsalmon\">,</span><span style=\"background:powderblue\"> sondern</span><span style=\"background:lavender\"> mehr</span><span style=\"background:lightsalmon\">ere</span><span style=\"background:powderblue\"> Reg</span><span style=\"background:lavender\">en</span><span style=\"background:lightsalmon\">b</span><span style=\"background:powderblue\">ö</span><span style=\"background:lavender\">gen</span><span style=\"background:lightsalmon\"> sind</span><span style=\"background:powderblue\"> s</span><span style=\"background:lavender\">icht</span><span style=\"background:lightsalmon\">bar</span><span style=\"background:powderblue\">.</span></tt><br>\n",
    "→ Note how German text contains shorter tokens -- this puts German at a disadvantage as compared to English. (This is primarily an artifact of the training material, which is mostly in English.)\n",
    "\n",
    "To check the tokenization of some text, check out: https://belladoreai.github.io/llama3-tokenizer-js/example-demo/build/ . (Unfortunately, tokens aren't explicitly shown below.)\n",
    "\n",
    "There are two methods for token generation from texts (or word lists) at the moment: [Byte-pair encoding (BPE)](https://en.wikipedia.org/wiki/Byte_pair_encoding) and [unigram modelling](https://huggingface.co/learn/nlp-course/en/chapter6/7). See e.g. [SentencePiece](https://github.com/google/sentencepiece) for a software that implements both."
   ]
  },
  {
   "cell_type": "markdown",
   "id": "23882c35-1661-47ba-8343-dd053ec9048f",
   "metadata": {},
   "source": [
    "# Playground! \n",
    "\n",
    "Below, you can play around to see generation in action. Please use the \"Run all Cells\" command (from the menu, or via the fast-forward icon) to load up the system. \n",
    "\n",
    "You will then see a text field for the context (that forms the base for generation) and a button that generates the most likely next token given the context. \n",
    "\n",
    "For example, the context <tt style=\"background:lavender\">>The sky is</tt> yields the next token <tt style=\"background:lavender\">&nbsp;the</tt>. The generated token is automatically added to the context, so you can click generate multiple times to see the autoregressive completion of the context."
   ]
  },
  {
   "cell_type": "code",
   "execution_count": 1,
   "id": "15a32b63-9eec-43f6-9165-f8c3266d9a74",
   "metadata": {
    "editable": true,
    "slideshow": {
     "slide_type": ""
    },
    "tags": []
   },
   "outputs": [
    {
     "name": "stdout",
     "output_type": "stream",
     "text": [
      "\u001b[?25l⠙ \u001b[?25h\u001b[?25l\u001b[2K\u001b[1G⠹ \u001b[?25h\u001b[?25l\u001b[2K\u001b[1G⠸ \u001b[?25h\u001b[?25l\u001b[2K\u001b[1G⠸ \u001b[?25h\u001b[?25l\u001b[2K\u001b[1G⠴ \u001b[?25h\u001b[?25l\u001b[2K\u001b[1G⠴ \u001b[?25h\u001b[?25l\u001b[2K\u001b[1G⠦ \u001b[?25h\u001b[?25l\u001b[2K\u001b[1G⠇ \u001b[?25h\u001b[?25l\u001b[2K\u001b[1G⠏ \u001b[?25h\u001b[?25l\u001b[2K\u001b[1G⠋ \u001b[?25h\u001b[?25l\u001b[2K\u001b[1G⠋ \u001b[?25h\u001b[?25l\u001b[2K\u001b[1G⠹ \u001b[?25h\u001b[?25l\u001b[2K\u001b[1G⠹ \u001b[?25h\u001b[?25l\u001b[2K\u001b[1G⠸ \u001b[?25h\u001b[?25l\u001b[2K\u001b[1G⠼ \u001b[?25h\u001b[?25l\u001b[2K\u001b[1G⠦ \u001b[?25h\u001b[?25l\u001b[2K\u001b[1G⠧ \u001b[?25h\u001b[?25l\u001b[2K\u001b[1G⠇ \u001b[?25h\u001b[?25l\u001b[2K\u001b[1G⠇ \u001b[?25h\u001b[?25l\u001b[2K\u001b[1G⠋ \u001b[?25h\u001b[?25l\u001b[2K\u001b[1G⠙ \u001b[?25h\u001b[?25l\u001b[2K\u001b[1G⠹ \u001b[?25h\u001b[?25l\u001b[2K\u001b[1G⠸ \u001b[?25h\u001b[?25l\u001b[2K\u001b[1G⠸ \u001b[?25h\u001b[?25l\u001b[2K\u001b[1G⠴ \u001b[?25h\u001b[?25l\u001b[2K\u001b[1G⠦ \u001b[?25h\u001b[?25l\u001b[2K\u001b[1G⠧ \u001b[?25h\u001b[?25l\u001b[2K\u001b[1G⠇ \u001b[?25h\u001b[?25l\u001b[2K\u001b[1G⠇ \u001b[?25h\u001b[?25l\u001b[2K\u001b[1G⠏ \u001b[?25h\u001b[?25l\u001b[2K\u001b[1G⠙ \u001b[?25h\u001b[?25l\u001b[2K\u001b[1G⠹ \u001b[?25h\u001b[?25l\u001b[2K\u001b[1G⠸ \u001b[?25h\u001b[?25l\u001b[2K\u001b[1G⠼ \u001b[?25h\u001b[?25l\u001b[2K\u001b[1G⠴ \u001b[?25h\u001b[?25l\u001b[2K\u001b[1G⠦ \u001b[?25h\u001b[?25l\u001b[2K\u001b[1G⠧ \u001b[?25h\u001b[?25l\u001b[2K\u001b[1G⠇ \u001b[?25h\u001b[?25l\u001b[2K\u001b[1G⠏ \u001b[?25h\u001b[?25l\u001b[2K\u001b[1G⠋ \u001b[?25h\u001b[?25l\u001b[2K\u001b[1G⠙ \u001b[?25h\u001b[?25l\u001b[2K\u001b[1G⠹ \u001b[?25h\u001b[?25l\u001b[2K\u001b[1G⠹ \u001b[?25h\u001b[?25l\u001b[2K\u001b[1G⠼ \u001b[?25h\u001b[?25l\u001b[2K\u001b[1G⠴ \u001b[?25h\u001b[?25l\u001b[2K\u001b[1G⠦ \u001b[?25h\u001b[?25l\u001b[2K\u001b[1G⠧ \u001b[?25h\u001b[?25l\u001b[2K\u001b[1G⠇ \u001b[?25h\u001b[?25l\u001b[2K\u001b[1G⠏ \u001b[?25h\u001b[?25l\u001b[2K\u001b[1G⠋ \u001b[?25h\u001b[?25l\u001b[2K\u001b[1G⠙ \u001b[?25h\u001b[?25l\u001b[2K\u001b[1G⠙ \u001b[?25h\u001b[?25l\u001b[2K\u001b[1G⠸ \u001b[?25h\u001b[?25l\u001b[2K\u001b[1G⠼ \u001b[?25h\u001b[?25l\u001b[2K\u001b[1G⠴ \u001b[?25h\u001b[?25l\u001b[2K\u001b[1G⠦ \u001b[?25h\u001b[?25l\u001b[2K\u001b[1G⠧ \u001b[?25h\u001b[?25l\u001b[2K\u001b[1G⠇ \u001b[?25h\u001b[?25l\u001b[2K\u001b[1G⠏ \u001b[?25h\u001b[?25l\u001b[2K\u001b[1G⠋ \u001b[?25h\u001b[?25l\u001b[2K\u001b[1G⠙ \u001b[?25h\u001b[?25l\u001b[2K\u001b[1G⠹ \u001b[?25h\u001b[?25l\u001b[2K\u001b[1G⠸ \u001b[?25h\u001b[?25l\u001b[2K\u001b[1G⠼ \u001b[?25h\u001b[?25l\u001b[2K\u001b[1G⠴ \u001b[?25h\u001b[?25l\u001b[2K\u001b[1G⠦ \u001b[?25h\u001b[?25l\u001b[2K\u001b[1G⠧ \u001b[?25h\u001b[?25l\u001b[2K\u001b[1G⠇ \u001b[?25h\u001b[?25l\u001b[2K\u001b[1G⠏ \u001b[?25h\u001b[?25l\u001b[2K\u001b[1G⠏ \u001b[?25h\u001b[?25l\u001b[2K\u001b[1G⠙ \u001b[?25h\u001b[?25l\u001b[2K\u001b[1G⠙ \u001b[?25h\u001b[?25l\u001b[2K\u001b[1G⠹ \u001b[?25h\u001b[?25l\u001b[2K\u001b[1G⠸ \u001b[?25h\u001b[?25l\u001b[2K\u001b[1G⠼ \u001b[?25h\u001b[?25l\u001b[2K\u001b[1G⠦ \u001b[?25h\u001b[?25l\u001b[2K\u001b[1G⠧ \u001b[?25h\u001b[?25l\u001b[2K\u001b[1G⠇ \u001b[?25h\u001b[?25l\u001b[2K\u001b[1G⠏ \u001b[?25h\u001b[?25l\u001b[2K\u001b[1G⠏ \u001b[?25h\u001b[?25l\u001b[2K\u001b[1G⠋ \u001b[?25h\u001b[?25l\u001b[2K\u001b[1G⠙ \u001b[?25h\u001b[?25l\u001b[2K\u001b[1G⠹ \u001b[?25h\u001b[?25l\u001b[2K\u001b[1G⠸ \u001b[?25h\u001b[?25l\u001b[2K\u001b[1G⠴ \u001b[?25h\u001b[?25l\u001b[2K\u001b[1G⠦ \u001b[?25h\u001b[?25l\u001b[2K\u001b[1G⠦ \u001b[?25h\u001b[?25l\u001b[2K\u001b[1G⠧ \u001b[?25h\u001b[?25l\u001b[2K\u001b[1G⠇ \u001b[?25h\u001b[?25l\u001b[2K\u001b[1G⠏ \u001b[?25h\u001b[?25l\u001b[2K\u001b[1G⠋ \u001b[?25h\u001b[?25l\u001b[2K\u001b[1G⠙ \u001b[?25h\u001b[?25l\u001b[2K\u001b[1G⠸ \u001b[?25h\u001b[?25l\u001b[2K\u001b[1G⠸ \u001b[?25h\u001b[?25l\u001b[2K\u001b[1G⠼ \u001b[?25h\u001b[?25l\u001b[2K\u001b[1G⠴ \u001b[?25h\u001b[?25l\u001b[2K\u001b[1G⠧ \u001b[?25h\u001b[?25l\u001b[2K\u001b[1G⠇ \u001b[?25h\u001b[?25l\u001b[2K\u001b[1G⠇ \u001b[?25h\u001b[?25l\u001b[2K\u001b[1G⠏ \u001b[?25h\u001b[?25l\u001b[2K\u001b[1G⠋ \u001b[?25h\u001b[?25l\u001b[2K\u001b[1G⠙ \u001b[?25h\u001b[?25l\u001b[2K\u001b[1G⠸ \u001b[?25h\u001b[?25l\u001b[2K\u001b[1G⠼ \u001b[?25h\u001b[?25l\u001b[2K\u001b[1G⠴ \u001b[?25h\u001b[?25l\u001b[2K\u001b[1G⠦ \u001b[?25h\u001b[?25l\u001b[2K\u001b[1G⠧ \u001b[?25h\u001b[?25l\u001b[2K\u001b[1G⠇ \u001b[?25h\u001b[?25l\u001b[2K\u001b[1G⠏ \u001b[?25h\u001b[?25l\u001b[2K\u001b[1G⠋ \u001b[?25h\u001b[?25l\u001b[2K\u001b[1G⠙ \u001b[?25h\u001b[?25l\u001b[2K\u001b[1G⠹ \u001b[?25h\u001b[?25l\u001b[2K\u001b[1G⠸ \u001b[?25h\u001b[?25l\u001b[2K\u001b[1G⠼ \u001b[?25h\u001b[?25l\u001b[2K\u001b[1G⠴ \u001b[?25h\u001b[?25l\u001b[2K\u001b[1G⠦ \u001b[?25h\u001b[?25l\u001b[2K\u001b[1G⠦ \u001b[?25h\u001b[?25l\u001b[2K\u001b[1G⠧ \u001b[?25h\u001b[?25l\u001b[2K\u001b[1G⠇ \u001b[?25h\u001b[?25l\u001b[2K\u001b[1G⠋ \u001b[?25h\u001b[?25l\u001b[2K\u001b[1G⠙ \u001b[?25h\u001b[?25l\u001b[2K\u001b[1G⠹ \u001b[?25h\u001b[?25l\u001b[2K\u001b[1G⠹ \u001b[?25h\u001b[?25l\u001b[2K\u001b[1G⠸ \u001b[?25h\u001b[?25l\u001b[2K\u001b[1G⠼ \u001b[?25h\u001b[?25l\u001b[2K\u001b[1G⠴ \u001b[?25h\u001b[?25l\u001b[2K\u001b[1G⠧ \u001b[?25h\u001b[?25l\u001b[2K\u001b[1G⠧ \u001b[?25h\u001b[?25l\u001b[2K\u001b[1G⠇ \u001b[?25h\u001b[?25l\u001b[2K\u001b[1G⠏ \u001b[?25h\u001b[?25l\u001b[2K\u001b[1G⠋ \u001b[?25h\u001b[?25l\u001b[2K\u001b[1G⠹ \u001b[?25h\u001b[?25l\u001b[2K\u001b[1G⠹ \u001b[?25h\u001b[?25l\u001b[2K\u001b[1G⠸ \u001b[?25h\u001b[?25l\u001b[2K\u001b[1G⠴ \u001b[?25h\u001b[?25l\u001b[2K\u001b[1G⠦ \u001b[?25h\u001b[?25l\u001b[2K\u001b[1G⠦ \u001b[?25h\u001b[?25l\u001b[2K\u001b[1G⠇ \u001b[?25h\u001b[?25l\u001b[2K\u001b[1G⠏ \u001b[?25h\u001b[?25l\u001b[2K\u001b[1G⠋ \u001b[?25h\u001b[?25l\u001b[2K\u001b[1G⠋ \u001b[?25h\u001b[?25l\u001b[2K\u001b[1G⠙ \u001b[?25h\u001b[?25l\u001b[2K\u001b[1G⠸ \u001b[?25h\u001b[?25l\u001b[2K\u001b[1G⠼ \u001b[?25h\u001b[?25l\u001b[2K\u001b[1G⠼ \u001b[?25h\u001b[?25l\u001b[2K\u001b[1G⠦ \u001b[?25h\u001b[?25l\u001b[2K\u001b[1G⠧ \u001b[?25h\u001b[?25l\u001b[2K\u001b[1G⠇ \u001b[?25h\u001b[?25l\u001b[2K\u001b[1G⠏ \u001b[?25h\u001b[?25l\u001b[2K\u001b[1G⠋ \u001b[?25h\u001b[?25l\u001b[2K\u001b[1G⠋ \u001b[?25h\u001b[?25l\u001b[2K\u001b[1G⠙ \u001b[?25h\u001b[?25l\u001b[2K\u001b[1G⠹ \u001b[?25h\u001b[?25l\u001b[2K\u001b[1G⠸ \u001b[?25h\u001b[?25l\u001b[2K\u001b[1G⠴ \u001b[?25h\u001b[?25l\u001b[2K\u001b[1G⠴ \u001b[?25h\u001b[?25l\u001b[2K\u001b[1G⠦ \u001b[?25h\u001b[?25l\u001b[2K\u001b[1G⠧ \u001b[?25h\u001b[?25l\u001b[2K\u001b[1G⠏ \u001b[?25h\u001b[?25l\u001b[2K\u001b[1G⠋ \u001b[?25h\u001b[?25l\u001b[2K\u001b[1G⠙ \u001b[?25h\u001b[?25l\u001b[2K\u001b[1G⠙ \u001b[?25h\u001b[?25l\u001b[2K\u001b[1G⠸ \u001b[?25h\u001b[?25l\u001b[2K\u001b[1G⠼ \u001b[?25h\u001b[?25l\u001b[2K\u001b[1G⠴ \u001b[?25h\u001b[?25l\u001b[2K\u001b[1G⠦ \u001b[?25h\u001b[?25l\u001b[2K\u001b[1G⠧ \u001b[?25h\u001b[?25l\u001b[2K\u001b[1G⠧ \u001b[?25h\u001b[?25l\u001b[2K\u001b[1G⠏ \u001b[?25h\u001b[?25l\u001b[2K\u001b[1G⠏ \u001b[?25h\u001b[?25l\u001b[2K\u001b[1G⠋ \u001b[?25h\u001b[?25l\u001b[2K\u001b[1G⠹ \u001b[?25h\u001b[?25l\u001b[2K\u001b[1G⠹ \u001b[?25h\u001b[?25l\u001b[2K\u001b[1G⠸ \u001b[?25h\u001b[?25l\u001b[2K\u001b[1G⠼ \u001b[?25h\u001b[?25l\u001b[2K\u001b[1G⠴ \u001b[?25h\u001b[?25l\u001b[2K\u001b[1G⠦ \u001b[?25h\u001b[?25l\u001b[2K\u001b[1G⠧ \u001b[?25h\u001b[?25l\u001b[2K\u001b[1G⠇ \u001b[?25h\u001b[?25l\u001b[2K\u001b[1G⠋ \u001b[?25h\u001b[?25l\u001b[2K\u001b[1G⠋ \u001b[?25h\u001b[?25l\u001b[2K\u001b[1G⠹ \u001b[?25h\u001b[?25l\u001b[2K\u001b[1G⠸ \u001b[?25h\u001b[?25l\u001b[2K\u001b[1G⠼ \u001b[?25h\u001b[?25l\u001b[2K\u001b[1G⠴ \u001b[?25h\u001b[?25l\u001b[2K\u001b[1G⠦ \u001b[?25h\u001b[?25l\u001b[2K\u001b[1G⠧ \u001b[?25h\u001b[?25l\u001b[2K\u001b[1G⠇ \u001b[?25h\u001b[?25l\u001b[2K\u001b[1G⠏ \u001b[?25h\u001b[?25l\u001b[2K\u001b[1G⠋ \u001b[?25h\u001b[?25l\u001b[2K\u001b[1G⠙ \u001b[?25h\u001b[?25l\u001b[2K\u001b[1G⠹ \u001b[?25h\u001b[?25l\u001b[2K\u001b[1G⠸ \u001b[?25h\u001b[?25l\u001b[2K\u001b[1G⠼ \u001b[?25h\u001b[?25l\u001b[2K\u001b[1G⠴ \u001b[?25h\u001b[?25l\u001b[?25l\u001b[2K\u001b[1G\u001b[?25h\u001b[2K\u001b[1G\u001b[?25h\u001b[?25l\u001b[?25h"
     ]
    }
   ],
   "source": [
    "!/snap/bin/ollama run llama3:70b \"\"\n",
    "import ipywidgets as widgets\n",
    "import termcolor\n",
    "import ollama"
   ]
  },
  {
   "cell_type": "code",
   "execution_count": 2,
   "id": "bd30cec3-06e7-41a6-9706-03a72b49fd4d",
   "metadata": {
    "editable": true,
    "slideshow": {
     "slide_type": ""
    },
    "tags": [
     "hide-input"
    ]
   },
   "outputs": [],
   "source": [
    "def handle_click_generate(button):\n",
    "    #responseText.clear_output()\n",
    "    temp = tempSlider.value\n",
    "    with responseText:\n",
    "        print(\"'\" + termcolor.colored(queryText.value, color='blue') + \"'\", end='→')\n",
    "        response = ollama.generate(prompt=queryText.value, model='llama3:70b', template='{{ .Prompt }}', options={\"temperature\":temp, \"num_predict\":1})\n",
    "        print(\"'\" + termcolor.colored(str(response['response']), color='red') + \"'\")\n",
    "        queryText.value += response['response']"
   ]
  },
  {
   "cell_type": "code",
   "execution_count": 7,
   "id": "7dccc192-5571-40fe-a163-23d65a9ca29e",
   "metadata": {
    "editable": true,
    "slideshow": {
     "slide_type": ""
    },
    "tags": [
     "hide-input"
    ]
   },
   "outputs": [
    {
     "data": {
      "application/vnd.jupyter.widget-view+json": {
       "model_id": "4e05e268c75e401688a8308a58768578",
       "version_major": 2,
       "version_minor": 0
      },
      "text/plain": [
       "Output()"
      ]
     },
     "metadata": {},
     "output_type": "display_data"
    },
    {
     "data": {
      "application/vnd.jupyter.widget-view+json": {
       "model_id": "af21fac6109f418bb568dd62c8981975",
       "version_major": 2,
       "version_minor": 0
      },
      "text/plain": [
       "HBox(children=(Text(value='The sky is', description='Context:', placeholder='Type something'), Button(descript…"
      ]
     },
     "metadata": {},
     "output_type": "display_data"
    }
   ],
   "source": [
    "# set up the widgets to be used interactively\n",
    "\n",
    "queryText = widgets.Text(\n",
    "    value='The sky is',\n",
    "    placeholder='Type something',\n",
    "    description='Context:',\n",
    "    disabled=False\n",
    ")\n",
    "tempSlider = widgets.FloatSlider(\n",
    "    value=0.0,\n",
    "    min=0.0,\n",
    "    max=10.0,\n",
    "    description='Sampling temperature', \n",
    "    style={'description_width': 'initial', 'width': '800px'},\n",
    ")\n",
    "button = widgets.Button(\n",
    "    description='Generate next',\n",
    "    button_style='', # 'success', 'info', 'warning', 'danger' or ''\n",
    "    tooltip='generate',\n",
    "    icon='check' # (FontAwesome names without the `fa-` prefix)\n",
    ")\n",
    "responseText = widgets.Output()\n",
    "button.on_click(handle_click_chat)\n",
    "\n",
    "display(responseText)\n",
    "display(widgets.HBox([queryText, button, tempSlider]))\n"
   ]
  },
  {
   "cell_type": "markdown",
   "id": "c519e63c-8291-4677-8df2-873e07e4ff8b",
   "metadata": {
    "editable": true,
    "slideshow": {
     "slide_type": ""
    },
    "tags": []
   },
   "source": [
    "# More experimentation with autoregressive text continuation\n",
    "\n",
    "* try German texts, you'll notice the shorter tokens (more clicks on \"Generate\")\n",
    "* ***sampling temperature***: the sampling temperature influences the sampling strategy: \n",
    "   * temperature=0 always selects the most-probable token of the probability density function\n",
    "   * temperatures>0 enables weighted sampling from the pdf. temperature=1 uses the original weights; the higher the value, the more '''creative''' (rather: varied) the responses.\n",
    "   * temperatures near infinity yield random sampling among the token vocabulary\n",
    "* try setting a high sampling temperature and repeatedly generate from the same context. You will get different results most of the time.\n",
    "* What is the continuation for <tt style=\"background:lavender\">What is the color of the sky?</tt> (try with temperature=0 and maybe also with higher temperatures; try to explain what's happening; is the continuation as expected?)"
   ]
  },
  {
   "cell_type": "markdown",
   "id": "47764fd9-81ff-429b-b1ea-f2014a42c897",
   "metadata": {
    "editable": true,
    "slideshow": {
     "slide_type": ""
    },
    "tags": []
   },
   "source": [
    "# Make models *respond* to questions:\n",
    "For a language model, most likely continuations to questions are: more questions. This is an artifact of often seeing lists of questions in the training material (e.g. https://www.teenvogue.com/story/questions-to-get-to-know-someone).\n",
    "\n",
    "A superpower of large language models is **in-context learning**: You provide the model with some insight as to what you expect the continuation to be like by providing some examples. Try: <tt style=\"background:lavender\">What is the color of grass? green. What is the color of the sun? yellow. What is the color of the sky?</tt> The model is now able to generate answers! (But do look at the continuation beyond the response...) \n",
    "\n",
    "Providing examples in-context is very nice, because the model does not need to be retrained for the specific task. People speak of **one-shot** or **few-shot learning** (in our case above: 2-shot), to describe the situation that the model successfully performs a task when provided with one or a few examples. However, notice that no form of *learning* is taking place (my definition of learning includes some lasting effect). Instead, the model has previously learned to understand patterns of questions+answers and to continue them -- for all kinds of questions!\n",
    "\n",
    "Also, compare the continuations of <tt style=\"background:lavender\">At what time does the train leave?</tt> and <tt style=\"background:lavender\">At what time does the airplane leave? At 6am. At what time does the train leave?</tt>. When we're asking about non-**world-level* information, we'll have to do some serious **prompt engineering**.\n",
    "\n",
    "Today's LLMs are not strictly optimized to generate most likely sequence continuations but they are **aligned** to produce outputs that *make sense* when used as a chatbot. The most basic form of this is using markers to designate user- and system-turns in the context. Try: <tt style=\"background:lavender\">user: What is the color of the sky? system:</tt>. Also try: <tt style=\"background:lavender\">user: At what time does the train leave? system:</tt> Notice that this works without *any* example which is why people call it **zero-shot learning**."
   ]
  },
  {
   "cell_type": "markdown",
   "id": "a302b22c-0c0f-40e3-a1f3-fc8b907163fe",
   "metadata": {},
   "source": [
    "# Chatbot prompts:\n",
    "Above, we used the LLM in a mode that yields \"only\" text continuations and gradually looked at how extensions to the context are used to generate chatbot-like responses. Normally, chatbots come with a default prompt template, into which the user's input is added. For our model this is:\n",
    "\n",
    "<pre>{{ if .Prompt }}<|start_header_id|>user<|end_header_id|>\n",
    "\n",
    "{{ .Prompt }}<|eot_id|>{{ end }}<|start_header_id|>assistant<|end_header_id|>\n",
    "\n",
    "{{ .Response }}<|eot_id|></pre>\n",
    "\n",
    "(note this is very close to what we did above, except that here, model-specific special tokens are used: <tt><|start_header_id|></tt>, <tt><|eot_id|></tt>, ...\n",
    "\n",
    "To get this behaviour, replace the button handler in the GUI code above <tt>button_click(handle_click_generate)</tt> as described below. Note that the handler below will also produce as many tokens as the model desires (until it generates the special token <tt><|eot_id|></tt>)."
   ]
  },
  {
   "cell_type": "code",
   "execution_count": 6,
   "id": "1ca798cb-8520-4f51-90a0-e1e69ddc42c5",
   "metadata": {},
   "outputs": [],
   "source": [
    "def handle_click_chat(button):\n",
    "    #responseText.clear_output()\n",
    "    temp = tempSlider.value\n",
    "    with responseText:\n",
    "        button.disabled = True # responses will be much longer for this.\n",
    "        print(\"'\" + termcolor.colored(queryText.value, color='blue') + \"'\", end='→')\n",
    "        response = ollama.generate(prompt=queryText.value, template=None, model='llama3:70b', options={\"temperature\":temp})\n",
    "        print(\"'\" + termcolor.colored(str(response['response']), color='red') + \"'\")\n",
    "        # queryText.value += response['response'] # doesn't really make sense in this situation\n",
    "        button.disabled = False\n",
    "\n",
    "\n",
    "# in the code cell that sets up the graphical interface above, change the line \n",
    "# button.on_click(handle_click_generate)\n",
    "# to read \n",
    "# button.on_click(handle_click_chat)"
   ]
  },
  {
   "cell_type": "markdown",
   "id": "013101a7-10fc-43ed-af5f-d78a01989117",
   "metadata": {},
   "source": [
    "# Retrieval-augmented Generation\n",
    "Retrieval Augmented Generation is a two-step process: in the first step, some search mechanism some finds documents (or parts of documents) that are relevant to the question posed to the model. In the second step, the documents, some instructions and the original question are combined and passed to the LLM. \n",
    "\n",
    "Example prompt: \n",
    "\n",
    "Instruction: Write an accurate, engaging, and concise answer for the given question using only the provided documents (some of which might be irrelevant) and cite them properly using the format \\[\\<doc_id\\>\\]. For example if a particular information is from document 3 reference it with \\[3\\].<br>\n",
    "Documents:<br>\n",
    "\\[1\\]: Hollywood was a small community in 1870 and was incorporated as a municipality in 1903. It was consolidated with the city of Los Angeles in 1910, and soon thereafter a prominent film industry emerged, eventually becoming the most recognizable film industry in the world.<br>\n",
    "\\[2\\]: By 1912, major motion-picture companies had set up production near or in Los \\[...\\]<br>\n",
    "\\[...\\]<br>\n",
    "\\[10\\]: The history of the Forest Service \\[...\\]<br>\n",
    "Question: When did hollywood become the centre of the film industry?\n",
    "\n",
    "→ see also our most recent publication on evaluating and improving citation performance in RAG!"
   ]
  },
  {
   "cell_type": "markdown",
   "id": "147d84a2-05d8-4e2e-8f2c-b371856dfaa4",
   "metadata": {},
   "source": [
    "### LLMs have no clue what they are doing\n",
    "\n",
    "For example, I wanted to get a word that consists of multiple tokens. \n",
    "\n",
    "<tt>give me a word that internally consists of multiple tokens.</tt> → <tt>How about \"toothbrush\"? It can be broken down into three internal tokens: \"tooth\" and \"brush\".</tt> However, according to https://belladoreai.github.io/llama3-tokenizer-js/example-demo/build/ it consists of three tokens: <tt>to-oth-brush</tt> :-(\n",
    "\n",
    "Likewise, it also told me about bookshelf (with a correct break-down). I mistyped it in the tokenizer (<tt>book-sh-elp</tt>), so I asked the breakdown for that (mistyped) word: <tt>how many tokens is bookshelp</tt> → <tt>The word \"bookshelp\" can be broken down into two internal tokens: \"book\" and \"shelp\".</tt>. I didn't give up: <tt>try again</tt> → <tt>I apologize for the mistake! The correct answer is that \"bookshelp\" can be broken down into two internal tokens: \"books\" and \"help\".</tt>. It went on to claim that \"booskhelp\" is just one token. It never got the correct tokenization, although it had just seen it in the input.\n",
    "\n",
    "Bottom line: the model is made to predict next tokens; that's what it's good at. It is not made to analyze its input tokens and often fails miserably if asked to do that.\n"
   ]
  },
  {
   "cell_type": "code",
   "execution_count": null,
   "id": "684cbe8b-84dd-47bb-a105-7ada33b4653d",
   "metadata": {},
   "outputs": [],
   "source": []
  }
 ],
 "metadata": {
  "kernelspec": {
   "display_name": "Python 3 (ipykernel)",
   "language": "python",
   "name": "python3"
  },
  "language_info": {
   "codemirror_mode": {
    "name": "ipython",
    "version": 3
   },
   "file_extension": ".py",
   "mimetype": "text/x-python",
   "name": "python",
   "nbconvert_exporter": "python",
   "pygments_lexer": "ipython3",
   "version": "3.10.12"
  }
 },
 "nbformat": 4,
 "nbformat_minor": 5
}
